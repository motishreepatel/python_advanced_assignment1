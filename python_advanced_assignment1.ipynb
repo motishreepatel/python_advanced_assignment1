{
 "cells": [
  {
   "cell_type": "code",
   "execution_count": null,
   "metadata": {},
   "outputs": [],
   "source": [
    "#Q - Q1. What is the purpose of Python's OOP?\n",
    "#Answer:\n",
    "Here are some key purpose of Python's OOP :\n",
    "- Modularity and Code Organization\n",
    "- Encapsulation\n",
    "- Reusability\n",
    "- Polymorphism\n",
    "- Abstraction\n",
    "- Simplicity and Readability\n"
   ]
  },
  {
   "cell_type": "code",
   "execution_count": null,
   "metadata": {},
   "outputs": [],
   "source": [
    "#Q - Q2. Where does an inheritance search look for an attribute?\n",
    "#Answer:\n",
    "In Python, when you access an attribute on an object, the inheritance search follows a specific order known as the method resolution order (MRO). The MRO determines where Python looks for the attribute if it is not found in the current object. The MRO is defined by the inheritance hierarchy of classes.\n",
    "\n",
    "The MRO search for an attribute follows a depth-first, left-to-right order. It looks in the following locations:\n",
    "\n",
    "- The instance itself: If the attribute is present in the instance, it is directly accessible.\n",
    "\n",
    "- The class of the instance: If the attribute is not found in the instance, Python looks for it in the class of the instance.\n",
    "\n",
    "- The superclass(es): If the attribute is not found in the class, Python continues searching in the next class in the inheritance hierarchy, following the order of inheritance specified by the class definition.\n",
    "\n",
    "- Repeat step 3 until the attribute is found or there are no more classes in the inheritance hierarchy."
   ]
  },
  {
   "cell_type": "code",
   "execution_count": null,
   "metadata": {},
   "outputs": [],
   "source": [
    "#Q - Q3. How do you distinguish between a class object and an instance object?\n",
    "#Answer:\n",
    "Class Object:\n",
    "\n",
    "- Definition: A class object is an object that represents a class itself. It is created when the class definition is executed.\n",
    "- Purpose: The class object serves as a blueprint or template for creating instances of that class. It defines the structure and behavior that instances will possess.\n",
    "- Accessing attributes: You can access attributes defined in the class object using the class name itself. For example, ClassName.attribute_name.\n",
    "\n",
    "Instance Object:\n",
    "\n",
    "- Definition: An instance object is created by calling the class object like a function. It is a specific occurrence or realization of a class.\n",
    "- Purpose: Instance objects are created from a class object and represent individual objects with their own unique state and behavior. They can store data specific to each instance and have access to the class's attributes.\n",
    "- Accessing attributes: You can access attributes defined in an instance object using the dot notation on the instance itself. For example, instance_name.attribute_name."
   ]
  },
  {
   "cell_type": "code",
   "execution_count": null,
   "metadata": {},
   "outputs": [],
   "source": [
    "#Q - Q4. What makes the first argument in a class’s method function special?\n",
    "#Answer:\n",
    "In Python, the first argument in a class's method function is conventionally named self, although any valid variable name can be used. The self parameter is special because it represents the instance of the class on which the method is being called. It allows the method to access and manipulate the instance's attributes and perform operations specific to that instance.\n",
    "\n",
    "Here are some key points that make the self parameter special:\n",
    "\n",
    "- Instance Context: When a method is called on an instance of a class, the self parameter is automatically passed as the first argument by Python. This parameter provides a reference to the instance itself, allowing the method to access its attributes and perform operations on them.\n",
    "\n",
    "- Accessing Attributes: By using the self parameter, methods can access the instance's attributes and work with their current values. For example, self.attribute_name refers to an attribute of the instance, allowing you to read or modify its value within the method.\n",
    "\n",
    "- Method Invocation: When a method is invoked using the dot notation on an instance (e.g., instance.method()), Python automatically binds the instance to the self parameter. This way, the method can refer to the specific instance it was called on, even if multiple instances of the class exist.\n",
    "\n",
    "- Differentiating Instances: The self parameter helps distinguish between attributes and methods that are specific to each instance of a class. It allows different instances to have their own unique state and behavior, as each instance can access and modify its own attributes separately.\n",
    "\n",
    "- Method Chaining: The self parameter enables method chaining, where multiple method calls can be chained together on the same instance. Each method can return self, allowing subsequent methods to be called on the same instance, leading to more concise and readable code."
   ]
  },
  {
   "cell_type": "code",
   "execution_count": null,
   "metadata": {},
   "outputs": [],
   "source": [
    "#Q - Q5. What is the purpose of the __init__ method?\n",
    "#answer:\n",
    "The __init__ method in Python is a special method, also known as the constructor, that is automatically called when an instance of a class is created. It is used to initialize the attributes and state of the object. The primary purposes of the __init__ method are as follows:\n",
    "\n",
    "- Object Initialization: The __init__ method allows you to define and initialize the attributes of an object when it is created. It provides a convenient way to set the initial state of the object by accepting arguments and assigning them to instance variables.\n",
    "\n",
    "- Attribute Assignment: Within the __init__ method, you can assign values to the instance variables (attributes) of the object. These attributes define the object's state and hold specific data for each instance of the class.\n",
    "\n",
    "- Customization: By defining the __init__ method in your class, you can customize the initialization process and ensure that specific actions or calculations are performed when an instance is created. This customization can include setting default attribute values, validating input, or performing any other necessary setup.\n",
    "\n",
    "- Parameter Passing: The __init__ method allows you to pass arguments to the class constructor when creating an instance. These arguments can be used to initialize attributes or perform other operations during the object's creation.\n",
    "\n",
    "- Instance-specific Initialization: Since the __init__ method is called for each instance of a class, it enables the customization and initialization of instance-specific attributes. Each instance can have its own set of attributes with unique values."
   ]
  },
  {
   "cell_type": "code",
   "execution_count": null,
   "metadata": {},
   "outputs": [],
   "source": [
    "#Q - Q6. What is the process for creating a class instance?\n",
    "#Answer:\n",
    "To create an instance of a class in Python, you follow these steps:\n",
    "\n",
    "- Class Definition: Define a class that serves as a blueprint or template for creating objects. This involves defining attributes and methods that the instances of the class will possess.\n",
    "\n",
    "- Instance Creation: Instantiate the class by calling the class name as if it were a function, passing any required arguments to the class's __init__ method (if defined). This step creates a new instance of the class.\n",
    "\n",
    "- Attribute Initialization: If the class's __init__ method is defined, it is automatically called during instance creation, accepting the arguments passed in step 2. The __init__ method initializes the attributes of the instance to their initial values.\n",
    "\n",
    "- Accessing Instance Attributes and Methods: Once the instance is created, you can access its attributes and methods using the dot notation (instance.attribute or instance.method()). You can read and modify attributes, as well as invoke methods to perform actions specific to the instance."
   ]
  },
  {
   "cell_type": "code",
   "execution_count": null,
   "metadata": {},
   "outputs": [],
   "source": [
    "#Q - Q7. What is the process for creating a class?\n",
    "#Answer:\n",
    "To create a class in Python, you need to follow these steps:\n",
    "\n",
    "- Class Definition: Begin by using the class keyword, followed by the name you want to assign to the class. By convention, class names in Python typically start with an uppercase letter. For example, class ClassName:.\n",
    "\n",
    "- Class Attributes and Methods: Inside the class block, define the attributes and methods that the instances of the class will possess. Attributes are variables that store data, while methods are functions that perform actions associated with the class. You can define class-level attributes and methods that are shared among all instances, as well as instance-level attributes and methods that are specific to each instance.\n",
    "\n",
    "- Initialization Method (Optional): If you want to customize the initialization process of instances, define the special method __init__() within the class. This method, also known as the constructor, is called automatically when an instance is created and allows you to initialize attributes with specific values.\n",
    "\n",
    "- Accessing Attributes and Methods: Once the class is defined, you can create instances of the class (objects) by calling the class name as if it were a function, passing any required arguments to the __init__() method if defined. You can then access the attributes and methods of the instances using the dot notation (instance.attribute or instance.method())."
   ]
  },
  {
   "cell_type": "code",
   "execution_count": null,
   "metadata": {},
   "outputs": [],
   "source": [
    "#Q - Q8. How would you define the superclasses of a class?\n",
    "#Answer:\n",
    "The superclasses of a class, also known as base classes or parent classes, are the classes from which a particular class inherits its attributes \n",
    "and methods. In Python, you can define the superclasses of a class by specifying them within parentheses after the class name in the class \n",
    "definition.\n",
    "\n",
    "Definition:\n",
    "class DerivedClass(BaseClass1, BaseClass2, ...):\n",
    "    # Class definition\n",
    "    # ...\n",
    "\n"
   ]
  }
 ],
 "metadata": {
  "language_info": {
   "name": "python"
  },
  "orig_nbformat": 4
 },
 "nbformat": 4,
 "nbformat_minor": 2
}
